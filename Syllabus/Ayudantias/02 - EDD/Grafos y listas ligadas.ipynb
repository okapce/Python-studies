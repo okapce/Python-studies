{
 "cells": [
  {
   "cell_type": "markdown",
   "metadata": {},
   "source": [
    "# Listas Ligadas\n",
    "El mundo en python se ha perdido D: por lo que te piden en primer lugar implementar las listas, y sus métodos más básicos (append, insert, getitem). Asique vamos a ir paso a paso creando nuestra lista ligada. El primer paso es crear la clase básica"
   ]
  },
  {
   "cell_type": "code",
   "execution_count": null,
   "metadata": {
    "collapsed": true
   },
   "outputs": [],
   "source": [
    "class Node:\n",
    "\n",
    "    def __init__(self, value=None, son=None):\n",
    "        self.value = value\n",
    "        self.next = son\n",
    "\n",
    "    def __repr__(self):\n",
    "        return str(self.value)"
   ]
  },
  {
   "cell_type": "markdown",
   "metadata": {},
   "source": [
    "Una vez que tenemos nuestro \"átomo\" de las listas, implementamos la lista con sus métodos correspondientes."
   ]
  },
  {
   "cell_type": "code",
   "execution_count": 1,
   "metadata": {
    "collapsed": true
   },
   "outputs": [],
   "source": [
    "class ListaLigada:\n",
    "\n",
    "    def __init__(self, root=None, *args):\n",
    "        #*args es opcional. Esto sirve para que al momento de construir la lista, le podamos\n",
    "        #entregar varios parámetros, y se inicialice una lista con dichos parámetros.\n",
    "        self.root = Node(root) if root else None\n",
    "        self.cola = self.root\n",
    "        for arg in args:\n",
    "            self.append(arg)\n",
    "\n",
    "    def append(self, value):\n",
    "        if not self.root:\n",
    "            self.root = Node(value)\n",
    "            self.cola = self.root\n",
    "        else:\n",
    "            self.cola.next = Node(value)\n",
    "            self.cola = self.cola.next\n",
    "\n",
    "    def insert_value(self, i, value):\n",
    "        nodo_actual = self.root\n",
    "        while i > 1:\n",
    "            nodo_actual = nodo_actual.next\n",
    "            i -= 1\n",
    "        new_node = Node(value, nodo_actual.next)\n",
    "        nodo_actual.next = new_node\n",
    "\n",
    "    def __len__(self):\n",
    "        length = 0\n",
    "        nodo_actual = self.root\n",
    "        while nodo_actual:\n",
    "            length += 1\n",
    "            nodo_actual = nodo_actual.next\n",
    "        return length\n",
    "        \n",
    "    def __getitem__(self, i):\n",
    "        nodo_actual = self.root\n",
    "        for _ in range(i):\n",
    "            if nodo_actual:\n",
    "                nodo_actual = nodo_actual.next\n",
    "        #El siguiente error, nos permitiría hacer que nuestra clase la podamos iterar\n",
    "        #directamente con un for (item) in (ListaLigada)\n",
    "        #if not nodo_actual:\n",
    "        #    raise IndexError(\"El indice ingresado está fuera del rango de la lista\")\n",
    "        return nodo_actual.value\n",
    "\n",
    "    def __repr__(self):\n",
    "        ret = \"[\"\n",
    "        nodo_actual = self.root\n",
    "        while nodo_actual:\n",
    "            ret += \"{}, \".format(nodo_actual.value)\n",
    "            nodo_actual = nodo_actual.next\n",
    "        return ret.strip(\", \") + \"]\""
   ]
  },
  {
   "cell_type": "markdown",
   "metadata": {},
   "source": [
    "# Grafos\n",
    "Ahora que ya tenemos una pequeña estructura, se te informa que el problema era más grande de lo que creías. No solo a desaparecido python, sino tambien a desaparecido el internet D:. En un intento por recuperar la información perdida, se te pide que modeles una estructura de datos, que sea capaz de emular la red de internet. Para esto, tienes que cumplir ciertos comportamientos.\n",
    "- Una página puede hacer referencia a otra página, pero no necesariamente ambas se hacen referencia\n",
    "- El usuario solo puede estar en una pagina a la vez, y cuando abre internet siempre estará en el nodo raíz\n",
    "- Para moverse dentro de internet, el usuario solo puede ir a una pagina web que sea referenciada por la pagina en la que se encuentra actualmente \n",
    "\n",
    "Ahora, nuevamente fijamos un \"átomo\" para nuestra estructura. ¿Que diferencia tendría con el creado para las listas ligadas?"
   ]
  },
  {
   "cell_type": "code",
   "execution_count": 2,
   "metadata": {
    "collapsed": true
   },
   "outputs": [],
   "source": [
    "class NodeGrafo:\n",
    "\n",
    "    def __init__(self, value, linkto):\n",
    "        self.value = value\n",
    "        self.linkto = linkto\n",
    "\n",
    "    def add_connection(self, node):\n",
    "        self.linkto.append(node)\n",
    "        #En caso de ser un grafo dirigido\n",
    "        #node.linkedto.append(self)\n",
    "\n",
    "    def __repr__(self):\n",
    "        return self.value"
   ]
  },
  {
   "cell_type": "markdown",
   "metadata": {},
   "source": [
    "Ahora que ya tenemos una estructura lista, procedemos a crear la clase grafo de manera tal que cumpla todo lo pedido. __RECUERDA QUE TODAS LAS EDD DE PYTHON DESAPARECIERON, POR LO QUE NO PODEMOS USARLAS!!__"
   ]
  },
  {
   "cell_type": "code",
   "execution_count": 3,
   "metadata": {
    "collapsed": true
   },
   "outputs": [],
   "source": [
    "#Sin embargo, ya tenemos nuestras propias listas ligadas, por lo que podemos utilizar esas.\n",
    "#from Lista_Ligada import ListaLigada\n",
    "\n",
    "class RedInternet:\n",
    "\n",
    "    def __init__(self, nodo):\n",
    "        self.root = nodo\n",
    "        self.nodes = ListaLigada(nodo)\n",
    "        self.parado_en = nodo\n",
    "        print(self.nodes)\n",
    "\n",
    "    def get_node_value(self, value):\n",
    "        #Buscamos un nodo dentro de la red, utilizando el nombre de la página\n",
    "        for node in self.nodes:\n",
    "            if node.value == value:\n",
    "                return node\n",
    "        return None\n",
    "\n",
    "    def add_new_connection(self, value1, value2):\n",
    "        node1 = self.get_node_value(value1)\n",
    "        node2 = self.get_node_value(value2)\n",
    "        #Creamos una conexión entre ambos valores. En caso de que no existan los nodos\n",
    "        #podemos hacer 2 cosas. Levantar una excepción, o bien asumir que está bien\n",
    "        #el input y crear un nodo nuevo. Se implementan ambos casos para ver cómo\n",
    "        #sería.\n",
    "        if not node1:\n",
    "            raise Exception(\"No hay ningún nodo con valor {} en la red\".format(value1))\n",
    "        if node2 in node1.linkto:\n",
    "            print(\"La conexión {} -> {} ya existía en el grafo\".format(node1, node2))\n",
    "            return False\n",
    "        if not node2:\n",
    "            print(\"No existía el nodo con valor {}, se ha agregado al grafo\".format(value2))\n",
    "            node2 = NodeGrafo(value2, ListaLigada())\n",
    "            self.nodes.append(node2)\n",
    "        node1.add_connection(node2)\n",
    "        print(\"Se ha creado la conexión {} -> {}\".format(node1, node2))\n",
    "\n",
    "    def move_user(self):\n",
    "        #Como el usuario debe ser capaz de navegar por internet, se muestra todas las opciones\n",
    "        #a donde puede ir el usuario.\n",
    "        print(\"Actualmente está parado en {}, y puede ir a:\".format(self.parado_en))\n",
    "        for i in range(len(self.parado_en.linkto)):\n",
    "            print(\"{} {}\".format(i, self.parado_en.linkto[i]))\n",
    "        ans = int(input(\"A que página desea moverse?\\n\"))\n",
    "        if ans >= len(self.parado_en.linkto):\n",
    "            return False\n",
    "        self.parado_en = self.parado_en.linkto[ans]\n",
    "        return True\n",
    "\n",
    "    def __repr__(self):\n",
    "        ret = \"\"\n",
    "        for nodo in self.nodes:\n",
    "            ret += \"{} -> {}\\n\".format(nodo, nodo.linkto)\n",
    "        return ret\n"
   ]
  },
  {
   "cell_type": "markdown",
   "metadata": {},
   "source": [
    "Para verificar su estructura, se le pide que implemente la red que se ve a continuacion, y que permita al usuario ir moviendose por los distintos sitios.\n",
    "\n",
    "<img src=\"grafo.png\">"
   ]
  },
  {
   "cell_type": "code",
   "execution_count": null,
   "metadata": {
    "collapsed": true
   },
   "outputs": [],
   "source": [
    "if __name__ == \"__main__\":\n",
    "    grafo = RedInternet(NodeGrafo(\"www.google.com\", ListaLigada()))\n",
    "    grafo.add_new_connection(\"www.google.com\", \"www.rincondelvago.cl\")\n",
    "    grafo.add_new_connection(\"www.google.com\", \"www.facebook.com\")\n",
    "    grafo.add_new_connection(\"www.facebook.com\", \"www.google.com\")\n",
    "    grafo.add_new_connection(\"www.google.com\", \"www.amazon.com\")\n",
    "    grafo.add_new_connection(\"www.facebook.com\", \"www.amazon.com\")\n",
    "    grafo.add_new_connection(\"www.google.com\", \"www.wikipedia.com\")\n",
    "    grafo.add_new_connection(\"www.wikipedia.com\", \"www.amazon.com\")\n",
    "    grafo.add_new_connection(\"www.rincondelvago.cl\", \"www.blogdefreddie.com\")\n",
    "    grafo.add_new_connection(\"www.rincondelvago.cl\", \"www.wikipedia.com\")\n",
    "    print(\"\\n\")\n",
    "    while grafo.move_user():\n",
    "        pass\n"
   ]
  }
 ],
 "metadata": {
  "kernelspec": {
   "display_name": "Python 3",
   "language": "python",
   "name": "python3"
  },
  "language_info": {
   "codemirror_mode": {
    "name": "ipython",
    "version": 3
   },
   "file_extension": ".py",
   "mimetype": "text/x-python",
   "name": "python",
   "nbconvert_exporter": "python",
   "pygments_lexer": "ipython3",
   "version": "3.5.1+"
  }
 },
 "nbformat": 4,
 "nbformat_minor": 1
}
