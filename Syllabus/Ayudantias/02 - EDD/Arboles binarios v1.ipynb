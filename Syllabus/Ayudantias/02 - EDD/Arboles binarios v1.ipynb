{
 "cells": [
  {
   "cell_type": "markdown",
   "metadata": {},
   "source": [
    "# Arboles binarios\n",
    "Ivania quiere saber sobre sus ancestros, y para esto busca una estructura de datos para saber si deciende de Alan Turing o no. Es por esto que pensó en los árboles binarios."
   ]
  },
  {
   "cell_type": "code",
   "execution_count": 1,
   "metadata": {
    "collapsed": false
   },
   "outputs": [],
   "source": [
    "class Nodo(): #Nodo de arbol de busqueda binario\n",
    "    def __init__(self, value=None, left=None, right=None, dad=None):\n",
    "        self.value = value\n",
    "        self.right = right\n",
    "        self.left = left\n",
    "        self.dad = dad\n",
    "        \n",
    "    def insertNode(self, otro_nodo):\n",
    "        nodo_actual = self\n",
    "        #Revisamos el lado izquierdo\n",
    "        if otro_nodo.value < nodo_actual.value:\n",
    "            if nodo_actual.left == None:\n",
    "                nodo_actual.left = otro_nodo\n",
    "            else:\n",
    "                nodo_actual.left.insertNode(otro_nodo)\n",
    "        #Revisamos el lado derecho       \n",
    "        elif otro_nodo.value > nodo_actual.value:\n",
    "            if nodo_actual.right == None:\n",
    "                nodo_actual.right = otro_nodo\n",
    "            else:\n",
    "                nodo_actual.right.insertNode(otro_nodo)\n",
    "        else:\n",
    "            raise Exception(\"Ingrese un numero distinto\")\n",
    "        #Como ven, no hay caso en que sea ==, ya que todos los nodos\n",
    "        #deben ser menores o mayores que todos los elementos del arbol.\n",
    "                \n",
    "    def __repr__(self):\n",
    "        return \"Nodo de valor {}\".format(self.value)\n"
   ]
  },
  {
   "cell_type": "code",
   "execution_count": 2,
   "metadata": {
    "collapsed": false
   },
   "outputs": [
    {
     "name": "stdout",
     "output_type": "stream",
     "text": [
      "Nodo de valor 3\n",
      "Nodo de valor 2\n",
      "Nodo de valor 5\n",
      "Nodo de valor 1\n",
      "None\n",
      "Nodo de valor 4\n",
      "Nodo de valor 9\n"
     ]
    }
   ],
   "source": [
    "nodo_raiz = Nodo(3)\n",
    "nodo_raiz.insertNode(Nodo(5))\n",
    "nodo_raiz.insertNode(Nodo(2))\n",
    "nodo_raiz.insertNode(Nodo(9))\n",
    "nodo_raiz.insertNode(Nodo(6))\n",
    "nodo_raiz.insertNode(Nodo(4))\n",
    "nodo_raiz.insertNode(Nodo(1))\n",
    "\n",
    "print(nodo_raiz)\n",
    "\n",
    "print(nodo_raiz.left)\n",
    "print(nodo_raiz.right)\n",
    "\n",
    "print(nodo_raiz.left.left)\n",
    "print(nodo_raiz.left.right)\n",
    "\n",
    "print(nodo_raiz.right.left)\n",
    "print(nodo_raiz.right.right)"
   ]
  }
 ],
 "metadata": {
  "kernelspec": {
   "display_name": "Python 3",
   "language": "python",
   "name": "python3"
  },
  "language_info": {
   "codemirror_mode": {
    "name": "ipython",
    "version": 3
   },
   "file_extension": ".py",
   "mimetype": "text/x-python",
   "name": "python",
   "nbconvert_exporter": "python",
   "pygments_lexer": "ipython3",
   "version": "3.5.1+"
  }
 },
 "nbformat": 4,
 "nbformat_minor": 1
}
