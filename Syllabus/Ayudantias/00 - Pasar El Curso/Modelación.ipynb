{
 "cells": [
  {
   "cell_type": "markdown",
   "metadata": {},
   "source": [
    "# Ejercicio de Modelación\n",
    "\n",
    "La biblioteca de la universidad quiere modelar sus procesos. Para esto debe modelar las interacciones entre varios de los elementos que forman el servicio. Como usted está realizando el curso Pogramación Avanzada ellos pensaron que tiene la capacidad de lograr un buen modelo. La información que le entregan es la siguiente:\n",
    "\n",
    "- Los títulos tienen un (valga la redundancia) un título, autores, año de publicación, edición e ISBN. \n",
    "- Cada uno de los ejemplares de un título tiene un código único e irrepetible. \n",
    "- Los usuarios se representan con id, nombre y mail. Estos pueden buscar títulos en el catálogo, reservarlos y tomarlos prestados. \n",
    "- La biblioteca tiene estanterías, que a su vez tienen cajones. La biblioteca tienen 5043 estanterías y cada una tiene 12 cajones.\n",
    "- Cada estantería tiene asignado un rango de ISBN\n",
    "- Cada cajón tiene capacidad para 20 ejemplares.\n",
    "- Los ejemplares están en los cajones. Todos los ejemplares de un mismo título deben estar juntos y ordenados por sus ids en la misma estantería, pero podrían estar en distintos cajones.\n"
   ]
  },
  {
   "cell_type": "code",
   "execution_count": null,
   "metadata": {
    "collapsed": true
   },
   "outputs": [],
   "source": []
  }
 ],
 "metadata": {
  "kernelspec": {
   "display_name": "Python 3",
   "language": "python",
   "name": "python3"
  },
  "language_info": {
   "codemirror_mode": {
    "name": "ipython",
    "version": 3
   },
   "file_extension": ".py",
   "mimetype": "text/x-python",
   "name": "python",
   "nbconvert_exporter": "python",
   "pygments_lexer": "ipython3",
   "version": "3.4.3"
  }
 },
 "nbformat": 4,
 "nbformat_minor": 0
}
