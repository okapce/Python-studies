{
 "cells": [
  {
   "cell_type": "markdown",
   "metadata": {},
   "source": [
    "__Ejercicio 1__: Implemente un decorador and que haga que una función retorne True, si su\n",
    "output cumple con ciertas condiciones dadas por una cantidad arbitraria de\n",
    "funciones. Luego, se muestra un ejemplo de el output que debiese tener una función decorada con su decorador."
   ]
  },
  {
   "cell_type": "code",
   "execution_count": 5,
   "metadata": {
    "collapsed": false
   },
   "outputs": [
    {
     "name": "stdout",
     "output_type": "stream",
     "text": [
      "True\n",
      "False\n",
      "False\n"
     ]
    }
   ],
   "source": [
    "@decoradorand(lambda x: x < 0, lambda x: isinstance(x, int))\n",
    "def aumentar(num):\n",
    "    return num + 1\n",
    "\n",
    "print(aumentar(-10))\n",
    "print(aumentar(1))\n",
    "print(aumentar(-1.5))"
   ]
  },
  {
   "cell_type": "markdown",
   "metadata": {},
   "source": [
    "__SPOILER ALERT!!__ Acá está la solución"
   ]
  },
  {
   "cell_type": "code",
   "execution_count": null,
   "metadata": {
    "collapsed": true
   },
   "outputs": [],
   "source": [
    "#Para recibir tantas condiciones como queramos, usamos *args\n",
    "def decoradorand(*condiciones):\n",
    "    #Se recibe la función que será decorada\n",
    "    def _decorador(func):\n",
    "        #En este nivel, recibiremos los parámetros que recibe nuestra función.\n",
    "        #En este caso, recibe 1.\n",
    "        def __decorador(var):\n",
    "            #Aca podemos ejecutar la función que está siendo decorada! Y como \n",
    "            #queremos que el output dependa del resultado de esta, la ejecutamos \n",
    "            #con los parametros entregados\n",
    "            result = func(var)\n",
    "            for condition in condiciones:\n",
    "                #Luego, iteramos sobre todas las condiciones, y si alguna resulta ser \n",
    "                #falsa, entonces retorno False. Si ninguna fue falsa, se retorna True\n",
    "                if not condition(result):\n",
    "                    return False\n",
    "            return True\n",
    "        #Retornamos la función decorada\n",
    "        return __decorador\n",
    "    #retornamos el decorador\n",
    "    return _decorador"
   ]
  },
  {
   "cell_type": "markdown",
   "metadata": {},
   "source": [
    "__Ejercicio 2__: Implemente un decorador que reciba el nombre de 1 método, y lo deje como método privado en la clase que está siendo decorada. Luego, el output del código que está a continuación, debiese ser"
   ]
  },
  {
   "cell_type": "code",
   "execution_count": 3,
   "metadata": {
    "collapsed": false,
    "scrolled": true
   },
   "outputs": [
    {
     "name": "stdout",
     "output_type": "stream",
     "text": [
      "Lo siento, este método es privado D:\n",
      "Pedro te dice chao :)\n"
     ]
    }
   ],
   "source": [
    "@decorador(\"saludar\")\n",
    "class Persona:\n",
    "\n",
    "    def __init__(self, name):\n",
    "        self.name = name\n",
    "\n",
    "    def saludar(self):\n",
    "        print(\"{} te saluda :)\".format(self.name))\n",
    "\n",
    "    def despedirse(self):\n",
    "        print(\"{} te dice chao :)\".format(self.name))\n",
    "\n",
    "persona = Persona(\"Pedro\")\n",
    "persona.saludar()\n",
    "persona.despedirse()"
   ]
  },
  {
   "cell_type": "markdown",
   "metadata": {},
   "source": [
    "__SPOILER ALERT!!__ Acá está la solución (En este caso se asume que el método que ingrese el programador existe en la clase que está siendo decorar)"
   ]
  },
  {
   "cell_type": "code",
   "execution_count": 2,
   "metadata": {
    "collapsed": true
   },
   "outputs": [],
   "source": [
    "def decorador(metodo):\n",
    "    #Como se dijo durante la ayudantía, recibimos la clase (ojo, no una instancia de la clase)\n",
    "    def _decorador(clase):\n",
    "        #Como queremos hacer el método privado, definimos una función que dirá que el método es privado\n",
    "        def aux(self, *args):\n",
    "            print(\"Lo siento, este método es privado D:\")\n",
    "        #Rescatamos el método que tenía declarada la clase (ojo, queremos setearlo como privado,\n",
    "        #no perderlo)\n",
    "        old = getattr(clase, metodo)\n",
    "        new_name = '__' + metodo\n",
    "        #Finalmente seteamos las funciones. Al metodo original le ponemos un nombre de método privado,\n",
    "        #y seteamos como método que recibió el decorador, la función auxiliar que advierte que el \n",
    "        #método llamado es un método privado.\n",
    "        setattr(clase, new_name, old)\n",
    "        setattr(clase, metodo, aux)\n",
    "        #Recuerden retornar la clase! si no la clase decorada se transformará en None\n",
    "        return clase\n",
    "    return _decorador"
   ]
  }
 ],
 "metadata": {
  "kernelspec": {
   "display_name": "Python 3",
   "language": "python",
   "name": "python3"
  },
  "language_info": {
   "codemirror_mode": {
    "name": "ipython",
    "version": 3
   },
   "file_extension": ".py",
   "mimetype": "text/x-python",
   "name": "python",
   "nbconvert_exporter": "python",
   "pygments_lexer": "ipython3",
   "version": "3.5.2"
  }
 },
 "nbformat": 4,
 "nbformat_minor": 1
}
